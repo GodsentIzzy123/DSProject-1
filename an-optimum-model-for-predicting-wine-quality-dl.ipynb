{
 "cells": [
  {
   "cell_type": "markdown",
   "id": "generic-dodge",
   "metadata": {
    "papermill": {
     "duration": 0.01232,
     "end_time": "2021-05-15T18:34:09.265289",
     "exception": false,
     "start_time": "2021-05-15T18:34:09.252969",
     "status": "completed"
    },
    "tags": []
   },
   "source": [
    "# **AN OPTIMIZED DEEP LEARNING MODEL FOR PREDICTING THE QUALITY OF A PORTUGUESE WHITE WINE USING ITS PHYSIOCHEMICAL PROPERTIES**"
   ]
  },
  {
   "cell_type": "markdown",
   "id": "stainless-joseph",
   "metadata": {
    "papermill": {
     "duration": 0.009594,
     "end_time": "2021-05-15T18:34:09.285120",
     "exception": false,
     "start_time": "2021-05-15T18:34:09.275526",
     "status": "completed"
    },
    "tags": []
   },
   "source": [
    " # 1. **DATA LOADING AND EXPLORATION**"
   ]
  },
  {
   "cell_type": "markdown",
   "id": "regional-world",
   "metadata": {
    "papermill": {
     "duration": 0.009458,
     "end_time": "2021-05-15T18:34:09.304642",
     "exception": false,
     "start_time": "2021-05-15T18:34:09.295184",
     "status": "completed"
    },
    "tags": []
   },
   "source": [
    "The first stage of the process invloves reading the file using the **pandas library** , and doing some basic data investigation using the .describe() method.\n",
    "\n"
   ]
  },
  {
   "cell_type": "code",
   "execution_count": 1,
   "id": "natural-housing",
   "metadata": {
    "execution": {
     "iopub.execute_input": "2021-05-15T18:34:09.332880Z",
     "iopub.status.busy": "2021-05-15T18:34:09.332219Z",
     "iopub.status.idle": "2021-05-15T18:34:09.450546Z",
     "shell.execute_reply": "2021-05-15T18:34:09.451157Z"
    },
    "papermill": {
     "duration": 0.137099,
     "end_time": "2021-05-15T18:34:09.451599",
     "exception": false,
     "start_time": "2021-05-15T18:34:09.314500",
     "status": "completed"
    },
    "tags": []
   },
   "outputs": [
    {
     "data": {
      "text/html": [
       "<div>\n",
       "<style scoped>\n",
       "    .dataframe tbody tr th:only-of-type {\n",
       "        vertical-align: middle;\n",
       "    }\n",
       "\n",
       "    .dataframe tbody tr th {\n",
       "        vertical-align: top;\n",
       "    }\n",
       "\n",
       "    .dataframe thead th {\n",
       "        text-align: right;\n",
       "    }\n",
       "</style>\n",
       "<table border=\"1\" class=\"dataframe\">\n",
       "  <thead>\n",
       "    <tr style=\"text-align: right;\">\n",
       "      <th></th>\n",
       "      <th>fixed acidity</th>\n",
       "      <th>volatile acidity</th>\n",
       "      <th>citric acid</th>\n",
       "      <th>residual sugar</th>\n",
       "      <th>chlorides</th>\n",
       "      <th>free sulfur dioxide</th>\n",
       "      <th>total sulfur dioxide</th>\n",
       "      <th>density</th>\n",
       "      <th>pH</th>\n",
       "      <th>sulphates</th>\n",
       "      <th>alcohol</th>\n",
       "      <th>quality</th>\n",
       "    </tr>\n",
       "  </thead>\n",
       "  <tbody>\n",
       "    <tr>\n",
       "      <th>count</th>\n",
       "      <td>4890.000000</td>\n",
       "      <td>4891.000000</td>\n",
       "      <td>4896.000000</td>\n",
       "      <td>4896.000000</td>\n",
       "      <td>4896.000000</td>\n",
       "      <td>4898.000000</td>\n",
       "      <td>4898.000000</td>\n",
       "      <td>4898.000000</td>\n",
       "      <td>4891.000000</td>\n",
       "      <td>4896.000000</td>\n",
       "      <td>4898.000000</td>\n",
       "      <td>4898.000000</td>\n",
       "    </tr>\n",
       "    <tr>\n",
       "      <th>mean</th>\n",
       "      <td>6.855532</td>\n",
       "      <td>0.278252</td>\n",
       "      <td>0.334250</td>\n",
       "      <td>6.393250</td>\n",
       "      <td>0.045778</td>\n",
       "      <td>35.308085</td>\n",
       "      <td>138.360657</td>\n",
       "      <td>0.994027</td>\n",
       "      <td>3.188203</td>\n",
       "      <td>0.489835</td>\n",
       "      <td>10.514267</td>\n",
       "      <td>5.877909</td>\n",
       "    </tr>\n",
       "    <tr>\n",
       "      <th>std</th>\n",
       "      <td>0.843808</td>\n",
       "      <td>0.100811</td>\n",
       "      <td>0.120985</td>\n",
       "      <td>5.072275</td>\n",
       "      <td>0.021850</td>\n",
       "      <td>17.007137</td>\n",
       "      <td>42.498065</td>\n",
       "      <td>0.002991</td>\n",
       "      <td>0.151014</td>\n",
       "      <td>0.114147</td>\n",
       "      <td>1.230621</td>\n",
       "      <td>0.885639</td>\n",
       "    </tr>\n",
       "    <tr>\n",
       "      <th>min</th>\n",
       "      <td>3.800000</td>\n",
       "      <td>0.080000</td>\n",
       "      <td>0.000000</td>\n",
       "      <td>0.600000</td>\n",
       "      <td>0.009000</td>\n",
       "      <td>2.000000</td>\n",
       "      <td>9.000000</td>\n",
       "      <td>0.987110</td>\n",
       "      <td>2.720000</td>\n",
       "      <td>0.220000</td>\n",
       "      <td>8.000000</td>\n",
       "      <td>3.000000</td>\n",
       "    </tr>\n",
       "    <tr>\n",
       "      <th>25%</th>\n",
       "      <td>6.300000</td>\n",
       "      <td>0.210000</td>\n",
       "      <td>0.270000</td>\n",
       "      <td>1.700000</td>\n",
       "      <td>0.036000</td>\n",
       "      <td>23.000000</td>\n",
       "      <td>108.000000</td>\n",
       "      <td>0.991723</td>\n",
       "      <td>3.090000</td>\n",
       "      <td>0.410000</td>\n",
       "      <td>9.500000</td>\n",
       "      <td>5.000000</td>\n",
       "    </tr>\n",
       "    <tr>\n",
       "      <th>50%</th>\n",
       "      <td>6.800000</td>\n",
       "      <td>0.260000</td>\n",
       "      <td>0.320000</td>\n",
       "      <td>5.200000</td>\n",
       "      <td>0.043000</td>\n",
       "      <td>34.000000</td>\n",
       "      <td>134.000000</td>\n",
       "      <td>0.993740</td>\n",
       "      <td>3.180000</td>\n",
       "      <td>0.470000</td>\n",
       "      <td>10.400000</td>\n",
       "      <td>6.000000</td>\n",
       "    </tr>\n",
       "    <tr>\n",
       "      <th>75%</th>\n",
       "      <td>7.300000</td>\n",
       "      <td>0.320000</td>\n",
       "      <td>0.390000</td>\n",
       "      <td>9.900000</td>\n",
       "      <td>0.050000</td>\n",
       "      <td>46.000000</td>\n",
       "      <td>167.000000</td>\n",
       "      <td>0.996100</td>\n",
       "      <td>3.280000</td>\n",
       "      <td>0.550000</td>\n",
       "      <td>11.400000</td>\n",
       "      <td>6.000000</td>\n",
       "    </tr>\n",
       "    <tr>\n",
       "      <th>max</th>\n",
       "      <td>14.200000</td>\n",
       "      <td>1.100000</td>\n",
       "      <td>1.660000</td>\n",
       "      <td>65.800000</td>\n",
       "      <td>0.346000</td>\n",
       "      <td>289.000000</td>\n",
       "      <td>440.000000</td>\n",
       "      <td>1.038980</td>\n",
       "      <td>3.820000</td>\n",
       "      <td>1.080000</td>\n",
       "      <td>14.200000</td>\n",
       "      <td>9.000000</td>\n",
       "    </tr>\n",
       "  </tbody>\n",
       "</table>\n",
       "</div>"
      ],
      "text/plain": [
       "       fixed acidity  volatile acidity  citric acid  residual sugar  \\\n",
       "count    4890.000000       4891.000000  4896.000000     4896.000000   \n",
       "mean        6.855532          0.278252     0.334250        6.393250   \n",
       "std         0.843808          0.100811     0.120985        5.072275   \n",
       "min         3.800000          0.080000     0.000000        0.600000   \n",
       "25%         6.300000          0.210000     0.270000        1.700000   \n",
       "50%         6.800000          0.260000     0.320000        5.200000   \n",
       "75%         7.300000          0.320000     0.390000        9.900000   \n",
       "max        14.200000          1.100000     1.660000       65.800000   \n",
       "\n",
       "         chlorides  free sulfur dioxide  total sulfur dioxide      density  \\\n",
       "count  4896.000000          4898.000000           4898.000000  4898.000000   \n",
       "mean      0.045778            35.308085            138.360657     0.994027   \n",
       "std       0.021850            17.007137             42.498065     0.002991   \n",
       "min       0.009000             2.000000              9.000000     0.987110   \n",
       "25%       0.036000            23.000000            108.000000     0.991723   \n",
       "50%       0.043000            34.000000            134.000000     0.993740   \n",
       "75%       0.050000            46.000000            167.000000     0.996100   \n",
       "max       0.346000           289.000000            440.000000     1.038980   \n",
       "\n",
       "                pH    sulphates      alcohol      quality  \n",
       "count  4891.000000  4896.000000  4898.000000  4898.000000  \n",
       "mean      3.188203     0.489835    10.514267     5.877909  \n",
       "std       0.151014     0.114147     1.230621     0.885639  \n",
       "min       2.720000     0.220000     8.000000     3.000000  \n",
       "25%       3.090000     0.410000     9.500000     5.000000  \n",
       "50%       3.180000     0.470000    10.400000     6.000000  \n",
       "75%       3.280000     0.550000    11.400000     6.000000  \n",
       "max       3.820000     1.080000    14.200000     9.000000  "
      ]
     },
     "execution_count": 1,
     "metadata": {},
     "output_type": "execute_result"
    }
   ],
   "source": [
    "import pandas as pd\n",
    "white_wine = pd.read_csv('../input/white-wine-quality/WhiteWineQualityCSV.csv')\n",
    "white_wine.describe()"
   ]
  },
  {
   "cell_type": "markdown",
   "id": "gentle-bailey",
   "metadata": {
    "papermill": {
     "duration": 0.010194,
     "end_time": "2021-05-15T18:34:09.473354",
     "exception": false,
     "start_time": "2021-05-15T18:34:09.463160",
     "status": "completed"
    },
    "tags": []
   },
   "source": [
    "It can be seen from the data description that our dataset contains **12 columns** and from the **count value** we can see that each column has varying . Some have 4890, 4891,4898 ,etc. Hence, we can infer that there are some missing values in certain places in our dataset. Hence, we will need to do some data preparation and preprocessing."
   ]
  },
  {
   "cell_type": "markdown",
   "id": "plastic-maintenance",
   "metadata": {
    "papermill": {
     "duration": 0.010182,
     "end_time": "2021-05-15T18:34:09.494291",
     "exception": false,
     "start_time": "2021-05-15T18:34:09.484109",
     "status": "completed"
    },
    "tags": []
   },
   "source": [
    "#  2. **Data Preparation, Splitting, Scaling and Choosing Target values**\n",
    "   To solve the problem of missing values, we are going to solve the problem using the **SimpleImputer()method**  from the *sk.learn library*. To read more about how to handle missing values in a dataset, i will recommend you check out this lesson in one of  Kaggle's machine learning course https://www.kaggle.com/alexisbcook/missing-values.\n",
    "   \n",
    "   \n",
    "*    **Splitting**\n",
    "      \n",
    "      In order to avoid overfitting , we are going to split the dataset into two parts - The training set and the validation set (also known as test set). I chose to have it in a ratio 70% to 30% , some people also like to have it as 80% to 20% . So either of these two ratios are fine.\n",
    "       \n",
    "*    **Scaling**    \n",
    "\n",
    "       This is usually advised, because it enables most models to perform better with the dataset. So we scale our data to fit into [0,1].\n",
    "     \n",
    "*   **Choosing Target values**    \n",
    "\n",
    "      Since we are trying to predict the quality of a white wine, given all it's physiochemical properties, we have to exclude it from the dataset and have it as our target value."
   ]
  },
  {
   "cell_type": "code",
   "execution_count": 2,
   "id": "rough-treasure",
   "metadata": {
    "execution": {
     "iopub.execute_input": "2021-05-15T18:34:09.526009Z",
     "iopub.status.busy": "2021-05-15T18:34:09.525200Z",
     "iopub.status.idle": "2021-05-15T18:34:11.088408Z",
     "shell.execute_reply": "2021-05-15T18:34:11.088988Z"
    },
    "papermill": {
     "duration": 1.584289,
     "end_time": "2021-05-15T18:34:11.089202",
     "exception": false,
     "start_time": "2021-05-15T18:34:09.504913",
     "status": "completed"
    },
    "scrolled": true,
    "tags": []
   },
   "outputs": [
    {
     "data": {
      "text/html": [
       "<div>\n",
       "<style scoped>\n",
       "    .dataframe tbody tr th:only-of-type {\n",
       "        vertical-align: middle;\n",
       "    }\n",
       "\n",
       "    .dataframe tbody tr th {\n",
       "        vertical-align: top;\n",
       "    }\n",
       "\n",
       "    .dataframe thead th {\n",
       "        text-align: right;\n",
       "    }\n",
       "</style>\n",
       "<table border=\"1\" class=\"dataframe\">\n",
       "  <thead>\n",
       "    <tr style=\"text-align: right;\">\n",
       "      <th></th>\n",
       "      <th>fixed acidity</th>\n",
       "      <th>volatile acidity</th>\n",
       "      <th>citric acid</th>\n",
       "      <th>residual sugar</th>\n",
       "      <th>chlorides</th>\n",
       "      <th>free sulfur dioxide</th>\n",
       "      <th>total sulfur dioxide</th>\n",
       "      <th>density</th>\n",
       "      <th>pH</th>\n",
       "      <th>sulphates</th>\n",
       "      <th>alcohol</th>\n",
       "      <th>quality</th>\n",
       "    </tr>\n",
       "  </thead>\n",
       "  <tbody>\n",
       "    <tr>\n",
       "      <th>2762</th>\n",
       "      <td>7.3</td>\n",
       "      <td>0.32</td>\n",
       "      <td>0.35</td>\n",
       "      <td>1.4</td>\n",
       "      <td>0.050</td>\n",
       "      <td>8.0</td>\n",
       "      <td>163.0</td>\n",
       "      <td>0.99244</td>\n",
       "      <td>3.24</td>\n",
       "      <td>0.42</td>\n",
       "      <td>10.7</td>\n",
       "      <td>5</td>\n",
       "    </tr>\n",
       "    <tr>\n",
       "      <th>42</th>\n",
       "      <td>7.0</td>\n",
       "      <td>0.31</td>\n",
       "      <td>0.26</td>\n",
       "      <td>7.4</td>\n",
       "      <td>0.069</td>\n",
       "      <td>28.0</td>\n",
       "      <td>160.0</td>\n",
       "      <td>0.99540</td>\n",
       "      <td>3.13</td>\n",
       "      <td>0.46</td>\n",
       "      <td>9.8</td>\n",
       "      <td>6</td>\n",
       "    </tr>\n",
       "    <tr>\n",
       "      <th>1419</th>\n",
       "      <td>7.6</td>\n",
       "      <td>0.14</td>\n",
       "      <td>0.74</td>\n",
       "      <td>1.6</td>\n",
       "      <td>0.040</td>\n",
       "      <td>27.0</td>\n",
       "      <td>103.0</td>\n",
       "      <td>0.99160</td>\n",
       "      <td>3.07</td>\n",
       "      <td>0.40</td>\n",
       "      <td>10.8</td>\n",
       "      <td>7</td>\n",
       "    </tr>\n",
       "    <tr>\n",
       "      <th>3664</th>\n",
       "      <td>5.0</td>\n",
       "      <td>0.29</td>\n",
       "      <td>0.54</td>\n",
       "      <td>5.7</td>\n",
       "      <td>0.035</td>\n",
       "      <td>54.0</td>\n",
       "      <td>155.0</td>\n",
       "      <td>0.98976</td>\n",
       "      <td>3.27</td>\n",
       "      <td>0.34</td>\n",
       "      <td>12.9</td>\n",
       "      <td>8</td>\n",
       "    </tr>\n",
       "  </tbody>\n",
       "</table>\n",
       "</div>"
      ],
      "text/plain": [
       "      fixed acidity  volatile acidity  citric acid  residual sugar  chlorides  \\\n",
       "2762            7.3              0.32         0.35             1.4      0.050   \n",
       "42              7.0              0.31         0.26             7.4      0.069   \n",
       "1419            7.6              0.14         0.74             1.6      0.040   \n",
       "3664            5.0              0.29         0.54             5.7      0.035   \n",
       "\n",
       "      free sulfur dioxide  total sulfur dioxide  density    pH  sulphates  \\\n",
       "2762                  8.0                 163.0  0.99244  3.24       0.42   \n",
       "42                   28.0                 160.0  0.99540  3.13       0.46   \n",
       "1419                 27.0                 103.0  0.99160  3.07       0.40   \n",
       "3664                 54.0                 155.0  0.98976  3.27       0.34   \n",
       "\n",
       "      alcohol  quality  \n",
       "2762     10.7        5  \n",
       "42        9.8        6  \n",
       "1419     10.8        7  \n",
       "3664     12.9        8  "
      ]
     },
     "metadata": {},
     "output_type": "display_data"
    }
   ],
   "source": [
    "from sklearn.impute import SimpleImputer\n",
    "\n",
    "\n",
    "# Create training and validation splits\n",
    "df_train = white_wine.sample(frac=0.7, random_state=0)\n",
    "df_valid = white_wine.drop(df_train.index)\n",
    "display(df_train.head(4))\n",
    "\n",
    "# Imputation\n",
    "my_imputer = SimpleImputer()\n",
    "imputed_df_train = pd.DataFrame(my_imputer.fit_transform(df_train))\n",
    "imputed_df_valid = pd.DataFrame(my_imputer.transform(df_valid))\n",
    "\n",
    "# Imputation removed column names; put them back\n",
    "imputed_df_train.columns = df_train.columns\n",
    "imputed_df_valid.columns = df_valid.columns\n",
    "\n",
    "# Scale to [0, 1]\n",
    "max_ = imputed_df_train.max(axis=0)\n",
    "min_ = imputed_df_train.min(axis=0)\n",
    "df_train = (df_train - min_) / (max_ - min_)\n",
    "df_valid = (df_valid - min_) / (max_ - min_)\n",
    "\n",
    "# Split features and target\n",
    "X_train = imputed_df_train.drop('quality', axis=1)\n",
    "X_valid = imputed_df_valid.drop('quality', axis=1)\n",
    "y_train = imputed_df_train['quality']\n",
    "y_valid = imputed_df_valid['quality']"
   ]
  },
  {
   "cell_type": "code",
   "execution_count": 3,
   "id": "imported-mumbai",
   "metadata": {
    "execution": {
     "iopub.execute_input": "2021-05-15T18:34:11.116923Z",
     "iopub.status.busy": "2021-05-15T18:34:11.115918Z",
     "iopub.status.idle": "2021-05-15T18:34:11.122010Z",
     "shell.execute_reply": "2021-05-15T18:34:11.122463Z"
    },
    "papermill": {
     "duration": 0.021627,
     "end_time": "2021-05-15T18:34:11.122666",
     "exception": false,
     "start_time": "2021-05-15T18:34:11.101039",
     "status": "completed"
    },
    "scrolled": true,
    "tags": []
   },
   "outputs": [
    {
     "data": {
      "text/plain": [
       "(3429, 11)"
      ]
     },
     "execution_count": 3,
     "metadata": {},
     "output_type": "execute_result"
    }
   ],
   "source": [
    "X_train.shape # This helps us to find out the number of inputs in our Deep Learning network"
   ]
  },
  {
   "cell_type": "markdown",
   "id": "civic-certificate",
   "metadata": {
    "papermill": {
     "duration": 0.011431,
     "end_time": "2021-05-15T18:34:11.145753",
     "exception": false,
     "start_time": "2021-05-15T18:34:11.134322",
     "status": "completed"
    },
    "tags": []
   },
   "source": [
    "# **3. Deploying a Deep Learning model using TensorFlow**\n",
    "\n",
    "*  In this stage , we will be deploying a **3-layered deep learning network** from Keras and utilizing the **callbacks library** to apply **EarlyStopping method()** for obtaining an optimum value of weights , in order for us to minimise the validation loss.  \n",
    "\n",
    "*  Also, we will compile our model by specifying the performance metric and our optimizer- which are **MEAN ABSOLUTE ERRROR(MAE)** and **ADAM** respectively "
   ]
  },
  {
   "cell_type": "code",
   "execution_count": 4,
   "id": "necessary-affiliation",
   "metadata": {
    "execution": {
     "iopub.execute_input": "2021-05-15T18:34:11.175710Z",
     "iopub.status.busy": "2021-05-15T18:34:11.174552Z",
     "iopub.status.idle": "2021-05-15T18:34:17.916467Z",
     "shell.execute_reply": "2021-05-15T18:34:17.916993Z"
    },
    "papermill": {
     "duration": 6.75974,
     "end_time": "2021-05-15T18:34:17.917224",
     "exception": false,
     "start_time": "2021-05-15T18:34:11.157484",
     "status": "completed"
    },
    "tags": []
   },
   "outputs": [],
   "source": [
    "from tensorflow import keras\n",
    "from tensorflow.keras import layers,callbacks\n",
    "\n",
    "early_stopping = callbacks.EarlyStopping(\n",
    "    min_delta=0.001, # minimium amount of change to count as an improvement\n",
    "    patience=20, # how many epochs to wait before stopping\n",
    "    restore_best_weights=True,\n",
    ")\n",
    "model = keras.Sequential([\n",
    "    layers.Dense(512, activation='relu', input_shape=[11]),\n",
    "    layers.Dense(512, activation='relu'),\n",
    "    layers.Dense(512, activation='relu'),\n",
    "    layers.Dense(1),\n",
    "])\n",
    "\n",
    "model.compile(\n",
    "    optimizer='adam',\n",
    "    loss='mae',\n",
    ")"
   ]
  },
  {
   "cell_type": "markdown",
   "id": "unsigned-money",
   "metadata": {
    "papermill": {
     "duration": 0.011602,
     "end_time": "2021-05-15T18:34:17.940904",
     "exception": false,
     "start_time": "2021-05-15T18:34:17.929302",
     "status": "completed"
    },
    "tags": []
   },
   "source": [
    "# **4. Fitting of Model and Visualization of loss**\n",
    "\n",
    "   In this stage, we will be fitting our model and viewing how our validation loss and in-dataset loss performs as we apply our earlystopping method()\n"
   ]
  },
  {
   "cell_type": "code",
   "execution_count": 5,
   "id": "included-disease",
   "metadata": {
    "execution": {
     "iopub.execute_input": "2021-05-15T18:34:17.969935Z",
     "iopub.status.busy": "2021-05-15T18:34:17.968801Z",
     "iopub.status.idle": "2021-05-15T18:34:42.474681Z",
     "shell.execute_reply": "2021-05-15T18:34:42.475352Z"
    },
    "papermill": {
     "duration": 24.522746,
     "end_time": "2021-05-15T18:34:42.475573",
     "exception": false,
     "start_time": "2021-05-15T18:34:17.952827",
     "status": "completed"
    },
    "tags": []
   },
   "outputs": [
    {
     "name": "stdout",
     "output_type": "stream",
     "text": [
      "Minimum validation loss: 0.5714572072029114\n"
     ]
    },
    {
     "data": {
      "image/png": "[encoded data removed]",
      "text/plain": [
       "<Figure size 432x288 with 1 Axes>"
      ]
     },
     "metadata": {
      "needs_background": "light"
     },
     "output_type": "display_data"
    }
   ],
   "source": [
    "history = model.fit(\n",
    "    X_train, y_train,\n",
    "    validation_data=(X_valid, y_valid),\n",
    "    batch_size=256,\n",
    "    epochs=600,\n",
    "    callbacks=[early_stopping],\n",
    "    verbose=0,\n",
    ")\n",
    "\n",
    "history_df = pd.DataFrame(history.history)\n",
    "history_df.loc[:, ['loss', 'val_loss']].plot();\n",
    "print(\"Minimum validation loss: {}\".format(history_df['val_loss'].min()))"
   ]
  },
  {
   "cell_type": "markdown",
   "id": "starting-endorsement",
   "metadata": {
    "papermill": {
     "duration": 0.013138,
     "end_time": "2021-05-15T18:34:42.502360",
     "exception": false,
     "start_time": "2021-05-15T18:34:42.489222",
     "status": "completed"
    },
    "tags": []
   },
   "source": [
    "From our Deep learning model, we obtained a loss of about 0.577\n",
    "\n",
    "So we can say that on average that our predictions of a White Wine's quality using this model, will be about 0.577 above or below the exact value. It's not very ideal, and it's possible for us to still work on it and obtain better results. \n",
    "\n",
    "Thanks for reading. Do well to comment and leave questions below."
   ]
  },
  {
   "cell_type": "markdown",
   "id": "emerging-pressing",
   "metadata": {
    "papermill": {
     "duration": 0.01304,
     "end_time": "2021-05-15T18:34:42.528819",
     "exception": false,
     "start_time": "2021-05-15T18:34:42.515779",
     "status": "completed"
    },
    "tags": []
   },
   "source": []
  },
  {
   "cell_type": "markdown",
   "id": "separate-cycle",
   "metadata": {
    "papermill": {
     "duration": 0.012782,
     "end_time": "2021-05-15T18:34:42.555101",
     "exception": false,
     "start_time": "2021-05-15T18:34:42.542319",
     "status": "completed"
    },
    "tags": []
   },
   "source": []
  }
 ],
 "metadata": {
  "kernelspec": {
   "display_name": "Python 3",
   "language": "python",
   "name": "python3"
  },
  "language_info": {
   "codemirror_mode": {
    "name": "ipython",
    "version": 3
   },
   "file_extension": ".py",
   "mimetype": "text/x-python",
   "name": "python",
   "nbconvert_exporter": "python",
   "pygments_lexer": "ipython3",
   "version": "3.7.9"
  },
  "papermill": {
   "default_parameters": {},
   "duration": 42.193528,
   "end_time": "2021-05-15T18:34:44.185506",
   "environment_variables": {},
   "exception": null,
   "input_path": "__notebook__.ipynb",
   "output_path": "__notebook__.ipynb",
   "parameters": {},
   "start_time": "2021-05-15T18:34:01.991978",
   "version": "2.3.2"
  }
 },
 "nbformat": 4,
 "nbformat_minor": 5
}
